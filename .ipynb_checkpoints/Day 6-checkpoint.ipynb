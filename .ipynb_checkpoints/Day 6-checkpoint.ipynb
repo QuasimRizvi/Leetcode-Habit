{
 "cells": [
  {
   "cell_type": "markdown",
   "id": "050161bb",
   "metadata": {},
   "source": [
    "56. Merge Intervals"
   ]
  },
  {
   "cell_type": "code",
   "execution_count": 4,
   "id": "cac46218",
   "metadata": {},
   "outputs": [],
   "source": [
    "def merge(intervals):\n",
    "        intervals.sort(key = lambda i:i[0])\n",
    "        output = [intervals[0]]\n",
    "        for start,end in intervals[1:]:\n",
    "            if start <= output[-1][1]:\n",
    "                if end > output[-1][1]:\n",
    "                    output[-1][1] = end\n",
    "            else:\n",
    "                output.append([start,end])\n",
    "        print(output)"
   ]
  },
  {
   "cell_type": "code",
   "execution_count": 5,
   "id": "56442f4a",
   "metadata": {},
   "outputs": [
    {
     "name": "stdout",
     "output_type": "stream",
     "text": [
      "[[1, 6], [9, 11], [13, 16]]\n"
     ]
    }
   ],
   "source": [
    "merge([[1,3],[2,6],[9,11],[13,16],[14,15]])"
   ]
  },
  {
   "cell_type": "markdown",
   "id": "53900a5a",
   "metadata": {},
   "source": [
    "200. Number of Islands"
   ]
  },
  {
   "cell_type": "code",
   "execution_count": 14,
   "id": "31c2cb79",
   "metadata": {},
   "outputs": [],
   "source": [
    "from collections import deque\n",
    "def numIslands(grid):\n",
    "        if not grid:\n",
    "            return 0\n",
    "        \n",
    "        rows,cols = len(grid),len(grid[0])\n",
    "        \n",
    "        visited = set()\n",
    "        \n",
    "        count = 0\n",
    "        \n",
    "        def bfs(r,c):\n",
    "            q = deque()\n",
    "            visited.add((r,c))\n",
    "            q.append((r,c))\n",
    "            \n",
    "            while q:\n",
    "                row, col = q.popleft()\n",
    "                directions = [[1,0],[-1,0],[0,1],[0,-1]]\n",
    "                \n",
    "                for dr,dc in directions:\n",
    "                    R,C = row+dr,col+dc\n",
    "                    if R in range(rows) and C in range(cols) and grid[R][C]==\"1\" and (R,C) not in visited:\n",
    "                        q.append((R,C))\n",
    "                        visited.add((R,C))\n",
    "        \n",
    "        \n",
    "        for r in range(rows):\n",
    "            for c in range(cols):\n",
    "                if grid[r][c]=='1' and (r,c) not in visited:\n",
    "                    bfs(r,c)\n",
    "                    count +=1\n",
    "        return count"
   ]
  },
  {
   "cell_type": "code",
   "execution_count": 15,
   "id": "c4fd978f",
   "metadata": {},
   "outputs": [
    {
     "data": {
      "text/plain": [
       "[['1', '1', '0', '0', '0'],\n",
       " ['1', '1', '0', '0', '0'],\n",
       " ['0', '0', '1', '0', '0'],\n",
       " ['0', '0', '0', '1', '1']]"
      ]
     },
     "execution_count": 15,
     "metadata": {},
     "output_type": "execute_result"
    }
   ],
   "source": [
    "[[\"1\",\"1\",\"1\",\"1\",\"0\"],[\"1\",\"1\",\"0\",\"1\",\"0\"],[\"1\",\"1\",\"0\",\"0\",\"0\"],[\"0\",\"0\",\"0\",\"0\",\"0\"]]\n",
    "[[\"1\",\"1\",\"0\",\"0\",\"0\"],[\"1\",\"1\",\"0\",\"0\",\"0\"],[\"0\",\"0\",\"1\",\"0\",\"0\"],[\"0\",\"0\",\"0\",\"1\",\"1\"]]"
   ]
  },
  {
   "cell_type": "code",
   "execution_count": 16,
   "id": "62d8db88",
   "metadata": {},
   "outputs": [
    {
     "data": {
      "text/plain": [
       "1"
      ]
     },
     "execution_count": 16,
     "metadata": {},
     "output_type": "execute_result"
    }
   ],
   "source": [
    "numIslands([[\"1\",\"1\",\"1\",\"1\",\"0\"],[\"1\",\"1\",\"0\",\"1\",\"0\"],[\"1\",\"1\",\"0\",\"0\",\"0\"],[\"0\",\"0\",\"0\",\"0\",\"0\"]])"
   ]
  },
  {
   "cell_type": "code",
   "execution_count": 17,
   "id": "57b91e59",
   "metadata": {},
   "outputs": [
    {
     "data": {
      "text/plain": [
       "3"
      ]
     },
     "execution_count": 17,
     "metadata": {},
     "output_type": "execute_result"
    }
   ],
   "source": [
    "numIslands([[\"1\",\"1\",\"0\",\"0\",\"0\"],[\"1\",\"1\",\"0\",\"0\",\"0\"],[\"0\",\"0\",\"1\",\"0\",\"0\"],[\"0\",\"0\",\"0\",\"1\",\"1\"]])"
   ]
  },
  {
   "cell_type": "markdown",
   "id": "022d9f20",
   "metadata": {},
   "source": [
    "2. Add Two Numbers"
   ]
  },
  {
   "cell_type": "code",
   "execution_count": 18,
   "id": "182ba5a5",
   "metadata": {},
   "outputs": [],
   "source": [
    " def addTwoNumbers(l1,l2):\n",
    "        Head = ListNode()#To maintain head\n",
    "        curr = Head\n",
    "        \n",
    "        carry = 0\n",
    "        while l1 or l2 or carry:\n",
    "            v1 = l1.val if l1 else 0\n",
    "            v2 = l2.val if l2 else 0\n",
    "            \n",
    "            ans = v1 + v2 + carry\n",
    "            \n",
    "            carry = ans//10\n",
    "            ans = ans%10\n",
    "            \n",
    "            curr.next = ListNode(ans)\n",
    "            \n",
    "            curr = curr.next\n",
    "            l1 = l1.next if l1 else None\n",
    "            l2 = l2.next if l2 else None\n",
    "            \n",
    "        return Head.next\n",
    "    "
   ]
  },
  {
   "cell_type": "markdown",
   "id": "c94ddc1c",
   "metadata": {},
   "source": [
    "Check Leetcode for running example"
   ]
  },
  {
   "cell_type": "code",
   "execution_count": null,
   "id": "c459b6e2",
   "metadata": {},
   "outputs": [],
   "source": []
  }
 ],
 "metadata": {
  "kernelspec": {
   "display_name": "Python 3.9 (tensorflow)",
   "language": "python",
   "name": "tensorflow"
  },
  "language_info": {
   "codemirror_mode": {
    "name": "ipython",
    "version": 3
   },
   "file_extension": ".py",
   "mimetype": "text/x-python",
   "name": "python",
   "nbconvert_exporter": "python",
   "pygments_lexer": "ipython3",
   "version": "3.9.12"
  }
 },
 "nbformat": 4,
 "nbformat_minor": 5
}

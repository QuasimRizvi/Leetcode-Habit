{
 "cells": [
  {
   "cell_type": "markdown",
   "id": "1d68f83a",
   "metadata": {},
   "source": [
    "# String Algo"
   ]
  },
  {
   "cell_type": "markdown",
   "id": "bf76f940",
   "metadata": {},
   "source": [
    "3. Longest Substring Without Repeating Characters"
   ]
  },
  {
   "cell_type": "code",
   "execution_count": 7,
   "id": "06cf56a3",
   "metadata": {},
   "outputs": [],
   "source": [
    "def lengthOfLongestSubstring(s):\n",
    "        #SLIDING WINDOW TECHNIQUE\n",
    "        \n",
    "        l = 0\n",
    "        hm = {}\n",
    "        ans = 0\n",
    "        ansSet = set()\n",
    "        for r in range(len(s)):\n",
    "            if s[r] in hm:\n",
    "                l = max(l,hm[s[r]]+1)\n",
    "            ans = max(ans, r-l+1)\n",
    "#             Extra code to store substrings\n",
    "#             temp = s[l:r+1]\n",
    "#             if temp not in ansSet:\n",
    "#                 ansSet.add(temp)\n",
    "            hm[s[r]] = r\n",
    "#         print(ansSet)\n",
    "        return ans"
   ]
  },
  {
   "cell_type": "code",
   "execution_count": 8,
   "id": "23420123",
   "metadata": {},
   "outputs": [
    {
     "data": {
      "text/plain": [
       "3"
      ]
     },
     "execution_count": 8,
     "metadata": {},
     "output_type": "execute_result"
    }
   ],
   "source": [
    "lengthOfLongestSubstring(\"abcabcbb\")"
   ]
  },
  {
   "cell_type": "markdown",
   "id": "573d805d",
   "metadata": {},
   "source": [
    "5. Longest Palindromic Substring"
   ]
  },
  {
   "cell_type": "code",
   "execution_count": 9,
   "id": "26e744d2",
   "metadata": {},
   "outputs": [],
   "source": [
    " def longestPalindrome(s):\n",
    "        #two pointer approach\n",
    "        \n",
    "        resLen = 0\n",
    "        res = \"\"\n",
    "        for i in range(len(s)):\n",
    "            l,r = i,i\n",
    "            while l>=0 and r<len(s) and s[l] == s[r]:\n",
    "                if r-l+1 >resLen:\n",
    "                    res = s[l:r+1]\n",
    "                    resLen = r-l+1\n",
    "                r +=1\n",
    "                l -=1\n",
    "            \n",
    "            l,r = i,i+1\n",
    "            while l>=0 and r<len(s) and s[l] == s[r]:\n",
    "                if r-l+1 >resLen:\n",
    "                    res = s[l:r+1]\n",
    "                    resLen = r-l+1\n",
    "                r +=1\n",
    "                l -=1\n",
    "        \n",
    "        print(res,resLen)\n",
    "        return res"
   ]
  },
  {
   "cell_type": "code",
   "execution_count": 10,
   "id": "2954a42d",
   "metadata": {},
   "outputs": [
    {
     "name": "stdout",
     "output_type": "stream",
     "text": [
      "bab 3\n"
     ]
    },
    {
     "data": {
      "text/plain": [
       "'bab'"
      ]
     },
     "execution_count": 10,
     "metadata": {},
     "output_type": "execute_result"
    }
   ],
   "source": [
    "longestPalindrome(\"babad\")"
   ]
  },
  {
   "cell_type": "code",
   "execution_count": null,
   "id": "a88cd8bd",
   "metadata": {},
   "outputs": [],
   "source": []
  },
  {
   "cell_type": "code",
   "execution_count": null,
   "id": "a3295a9d",
   "metadata": {},
   "outputs": [],
   "source": []
  }
 ],
 "metadata": {
  "kernelspec": {
   "display_name": "Python 3.9 (tensorflow)",
   "language": "python",
   "name": "tensorflow"
  },
  "language_info": {
   "codemirror_mode": {
    "name": "ipython",
    "version": 3
   },
   "file_extension": ".py",
   "mimetype": "text/x-python",
   "name": "python",
   "nbconvert_exporter": "python",
   "pygments_lexer": "ipython3",
   "version": "3.9.12"
  }
 },
 "nbformat": 4,
 "nbformat_minor": 5
}

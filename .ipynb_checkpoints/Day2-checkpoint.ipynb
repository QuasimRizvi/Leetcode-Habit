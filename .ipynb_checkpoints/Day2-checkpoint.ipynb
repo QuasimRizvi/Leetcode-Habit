{
 "cells": [
  {
   "cell_type": "markdown",
   "id": "5925c8e2",
   "metadata": {},
   "source": [
    "20. Valid Parentheses\n"
   ]
  },
  {
   "cell_type": "code",
   "execution_count": 1,
   "id": "a7f2138a",
   "metadata": {},
   "outputs": [],
   "source": [
    "def isValid(s):\n",
    "        mapping = {']':'[','}':'{',')':'('}\n",
    "        stack = []\n",
    "        for char in s:\n",
    "            if char in \"[{(\":\n",
    "                stack.append(char)\n",
    "            elif char in \"}])\":\n",
    "                if len(stack)==0:\n",
    "                    return False\n",
    "                else:\n",
    "                    element = stack.pop()\n",
    "                    if element != mapping[char]:\n",
    "                        return False\n",
    "        if len(stack) == 0:\n",
    "            return True\n",
    "        else:\n",
    "            return False\n",
    "                "
   ]
  },
  {
   "cell_type": "code",
   "execution_count": 2,
   "id": "54e8dc4a",
   "metadata": {},
   "outputs": [
    {
     "data": {
      "text/plain": [
       "False"
      ]
     },
     "execution_count": 2,
     "metadata": {},
     "output_type": "execute_result"
    }
   ],
   "source": [
    "isValid(\"([}])\")"
   ]
  },
  {
   "cell_type": "markdown",
   "id": "adbab41f",
   "metadata": {},
   "source": [
    "21. Merge Two Sorted Lists"
   ]
  },
  {
   "cell_type": "code",
   "execution_count": null,
   "id": "4a3d24ed",
   "metadata": {},
   "outputs": [],
   "source": [
    "# Definition for singly-linked list.\n",
    "# class ListNode:\n",
    "#     def __init__(self, val=0, next=None):\n",
    "#         self.val = val\n",
    "#         self.next = next\n",
    "    def mergeTwoLists(self, list1: Optional[ListNode], list2: Optional[ListNode]) -> Optional[ListNode]:\n",
    "        dummy = ListNode()\n",
    "        tail = dummy\n",
    "        \n",
    "        while list1 and list2:\n",
    "            if list1.val <= list2.val:\n",
    "                tail.next = list1\n",
    "                list1 = list1.next\n",
    "            else:\n",
    "                tail.next = list2\n",
    "                list2 = list2.next\n",
    "            tail = tail.next\n",
    "        \n",
    "        if list1:\n",
    "            tail.next = list1\n",
    "        elif list2:\n",
    "            tail.next = list2\n",
    "        \n",
    "        return dummy.next\n"
   ]
  },
  {
   "cell_type": "markdown",
   "id": "30b43b38",
   "metadata": {},
   "source": [
    "26. Remove Duplicates from Sorted Array"
   ]
  },
  {
   "cell_type": "code",
   "execution_count": null,
   "id": "49f527a4",
   "metadata": {},
   "outputs": [],
   "source": [
    "def removeDuplicates(nums):\n",
    "        lp = 1\n",
    "        for rp in range(1,len(nums)):\n",
    "            if nums[rp]!=nums[rp-1]:\n",
    "                nums[lp] = nums[rp]\n",
    "                lp +=1\n",
    "        return lp"
   ]
  }
 ],
 "metadata": {
  "kernelspec": {
   "display_name": "Python 3.9 (tensorflow)",
   "language": "python",
   "name": "tensorflow"
  },
  "language_info": {
   "codemirror_mode": {
    "name": "ipython",
    "version": 3
   },
   "file_extension": ".py",
   "mimetype": "text/x-python",
   "name": "python",
   "nbconvert_exporter": "python",
   "pygments_lexer": "ipython3",
   "version": "3.9.12"
  }
 },
 "nbformat": 4,
 "nbformat_minor": 5
}

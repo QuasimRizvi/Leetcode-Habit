{
 "cells": [
  {
   "cell_type": "markdown",
   "id": "b59f37e8",
   "metadata": {},
   "source": [
    "28. Implement strStr()"
   ]
  },
  {
   "cell_type": "code",
   "execution_count": 1,
   "id": "58fbaedc",
   "metadata": {},
   "outputs": [],
   "source": [
    "def strStr(haystack,needle):\n",
    "        lptr = 0\n",
    "        rptr = 0\n",
    "        ans = -1\n",
    "        \n",
    "        while lptr < len(haystack) and rptr <len(needle):\n",
    "            # print(ans, haystack[lptr], needle[rptr])\n",
    "            if haystack[lptr] == needle[rptr]:\n",
    "                if ans==-1:\n",
    "                    ans = lptr\n",
    "                lptr +=1\n",
    "                rptr +=1\n",
    "            else:\n",
    "                if ans!=-1:\n",
    "                    lptr = ans+1\n",
    "                    ans = -1\n",
    "                else:\n",
    "                    lptr += 1\n",
    "                rptr  = 0\n",
    "        if rptr == len(needle):\n",
    "            return ans\n",
    "        else:\n",
    "            return -1"
   ]
  },
  {
   "cell_type": "code",
   "execution_count": 2,
   "id": "5b86bd49",
   "metadata": {},
   "outputs": [
    {
     "data": {
      "text/plain": [
       "2"
      ]
     },
     "execution_count": 2,
     "metadata": {},
     "output_type": "execute_result"
    }
   ],
   "source": [
    "strStr(\"Hello\",\"ll\")"
   ]
  },
  {
   "cell_type": "markdown",
   "id": "7714c62d",
   "metadata": {},
   "source": [
    "53. Maximum Subarray"
   ]
  },
  {
   "cell_type": "code",
   "execution_count": 20,
   "id": "6dd8f2bd",
   "metadata": {},
   "outputs": [],
   "source": [
    "def maxSubArray(nums):\n",
    "        maxSub = nums[0]\n",
    "        cur = 0\n",
    "        \n",
    "        for i in nums:\n",
    "            if cur < 0:\n",
    "                cur = 0\n",
    "            cur += i\n",
    "            maxSub = max(maxSub, cur)\n",
    "        return maxSub\n",
    "        "
   ]
  },
  {
   "cell_type": "code",
   "execution_count": 21,
   "id": "2652c61d",
   "metadata": {},
   "outputs": [
    {
     "data": {
      "text/plain": [
       "6"
      ]
     },
     "execution_count": 21,
     "metadata": {},
     "output_type": "execute_result"
    }
   ],
   "source": [
    "maxSubArray([-2,1,-3,4,-1,2,1,-5,4])"
   ]
  },
  {
   "cell_type": "markdown",
   "id": "57866dfa",
   "metadata": {},
   "source": [
    "66. Plus One"
   ]
  },
  {
   "cell_type": "code",
   "execution_count": 18,
   "id": "71eb11fb",
   "metadata": {},
   "outputs": [],
   "source": [
    "def plusOne(digits):\n",
    "        carry = 0\n",
    "        index = len(digits)-1\n",
    "        sum = 1 + digits[index]\n",
    "        while index >= 0:\n",
    "            if index != len(digits)-1:\n",
    "                sum = carry + digits[index]\n",
    "                carry = 0\n",
    "            if sum == 10:\n",
    "                carry = 1\n",
    "                digits[index] = 0\n",
    "                index -= 1\n",
    "            else:\n",
    "                digits[index] = sum\n",
    "                break\n",
    "        if carry == 1:\n",
    "            digits.insert(0,1)\n",
    "            \n",
    "        return digits"
   ]
  },
  {
   "cell_type": "code",
   "execution_count": 19,
   "id": "dbf0cd1d",
   "metadata": {},
   "outputs": [
    {
     "data": {
      "text/plain": [
       "[1, 2, 4, 0]"
      ]
     },
     "execution_count": 19,
     "metadata": {},
     "output_type": "execute_result"
    }
   ],
   "source": [
    "plusOne([1,2,3,9])"
   ]
  }
 ],
 "metadata": {
  "kernelspec": {
   "display_name": "Python 3.9 (tensorflow)",
   "language": "python",
   "name": "tensorflow"
  },
  "language_info": {
   "codemirror_mode": {
    "name": "ipython",
    "version": 3
   },
   "file_extension": ".py",
   "mimetype": "text/x-python",
   "name": "python",
   "nbconvert_exporter": "python",
   "pygments_lexer": "ipython3",
   "version": "3.9.12"
  }
 },
 "nbformat": 4,
 "nbformat_minor": 5
}

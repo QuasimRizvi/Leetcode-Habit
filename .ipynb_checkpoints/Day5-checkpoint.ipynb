{
 "cells": [
  {
   "cell_type": "markdown",
   "id": "cafda295",
   "metadata": {},
   "source": [
    "94. Binary Tree Inorder Traversal"
   ]
  },
  {
   "cell_type": "code",
   "execution_count": 5,
   "id": "2f9118b9",
   "metadata": {},
   "outputs": [],
   "source": [
    "# class TreeNode:\n",
    "#     def __init__(self, val=0, left=None, right=None):\n",
    "#         self.val = val\n",
    "#         self.left = left\n",
    "#         self.right = right\n",
    "def inorderTraversal(root):\n",
    "        #left Root Right\n",
    "        order = []\n",
    "        def inorder(root):\n",
    "            if not root: #Base case when you hit None just go back\n",
    "                return\n",
    "            else:\n",
    "                inorder(root.left)\n",
    "                order.append(root.val)\n",
    "                inorder(root.right)\n",
    "        \n",
    "        inorder(root)\n",
    "        \n",
    "        print(order)\n",
    "        return order\n",
    "            \n",
    "            "
   ]
  },
  {
   "cell_type": "markdown",
   "id": "1b583e19",
   "metadata": {},
   "source": [
    "Check Morris Method for O(1) space complexity"
   ]
  },
  {
   "cell_type": "markdown",
   "id": "dcb7a86e",
   "metadata": {},
   "source": [
    "This code won't run here because it is based on a class"
   ]
  },
  {
   "cell_type": "markdown",
   "id": "dd463068",
   "metadata": {},
   "source": [
    "101. Symmetric Tree"
   ]
  },
  {
   "cell_type": "code",
   "execution_count": null,
   "id": "1f0fbb0e",
   "metadata": {},
   "outputs": [],
   "source": [
    "def isSymmetric(self, root: Optional[TreeNode]) -> bool:\n",
    "        if not root:\n",
    "            return True\n",
    "        \n",
    "        def checkSym(left, right):\n",
    "            if not left or not right:\n",
    "                return left==right\n",
    "            elif left.val!=right.val:\n",
    "                return False\n",
    "            else:\n",
    "                return checkSym(left.left,right.right) and checkSym(left.right,right.left)\n",
    "        \n",
    "        return checkSym(root.left,root.right)    "
   ]
  },
  {
   "cell_type": "markdown",
   "id": "b59065f9",
   "metadata": {},
   "source": [
    "104. Maximum Depth of Binary Tree"
   ]
  },
  {
   "cell_type": "markdown",
   "id": "a0043bcc",
   "metadata": {},
   "source": [
    "Using DFS"
   ]
  },
  {
   "cell_type": "code",
   "execution_count": 7,
   "id": "e546ce53",
   "metadata": {},
   "outputs": [],
   "source": [
    "def maxDepth(root):\n",
    "        \n",
    "        def findDepth(root):\n",
    "            if not root:\n",
    "                return 0\n",
    "            else:\n",
    "                return 1+max(findDepth(root.left),findDepth(root.right))\n",
    "        \n",
    "        return findDepth(root)"
   ]
  },
  {
   "cell_type": "markdown",
   "id": "d734b1fc",
   "metadata": {},
   "source": [
    "Using BFS(uses Deque)"
   ]
  },
  {
   "cell_type": "code",
   "execution_count": 8,
   "id": "e092ffeb",
   "metadata": {},
   "outputs": [],
   "source": [
    "def maxDepth():\n",
    "        if not root:\n",
    "            return 0\n",
    "        check = deque([root])\n",
    "        level = 1\n",
    "        while check:\n",
    "            test = False\n",
    "            for i in range(len(check)):\n",
    "                node = check.popleft()\n",
    "                if node.left:\n",
    "                    check.append(node.left)\n",
    "                    test = True\n",
    "                if node.right:\n",
    "                    check.append(node.right)\n",
    "                    test= True\n",
    "            if test:\n",
    "                level +=1\n",
    "        return level"
   ]
  }
 ],
 "metadata": {
  "kernelspec": {
   "display_name": "Python 3.9 (tensorflow)",
   "language": "python",
   "name": "tensorflow"
  },
  "language_info": {
   "codemirror_mode": {
    "name": "ipython",
    "version": 3
   },
   "file_extension": ".py",
   "mimetype": "text/x-python",
   "name": "python",
   "nbconvert_exporter": "python",
   "pygments_lexer": "ipython3",
   "version": "3.9.12"
  }
 },
 "nbformat": 4,
 "nbformat_minor": 5
}

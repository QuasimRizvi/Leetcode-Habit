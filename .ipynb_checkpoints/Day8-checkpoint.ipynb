{
 "cells": [
  {
   "cell_type": "markdown",
   "id": "e29b5d19",
   "metadata": {},
   "source": [
    "## DAY 8"
   ]
  },
  {
   "cell_type": "markdown",
   "id": "53401c36",
   "metadata": {},
   "source": [
    "Quicksort"
   ]
  },
  {
   "cell_type": "code",
   "execution_count": null,
   "id": "0afad3ed",
   "metadata": {},
   "outputs": [],
   "source": [
    "# Select Pivot, Partition and then recursively quicksort the partitioned array"
   ]
  },
  {
   "cell_type": "code",
   "execution_count": 21,
   "id": "95a68207",
   "metadata": {},
   "outputs": [],
   "source": [
    "def quicksort(arr,start,end):\n",
    "    if start >= end:\n",
    "        return arr\n",
    "    pivot_pos = partition(arr,start,end)\n",
    "    quicksort(arr,start,pivot_pos-1)\n",
    "    quicksort(arr,pivot_pos+1, end)"
   ]
  },
  {
   "cell_type": "code",
   "execution_count": 22,
   "id": "e3462dc6",
   "metadata": {},
   "outputs": [],
   "source": [
    "def partition(arr,s,e):\n",
    "    pivot = arr[s]\n",
    "    while s<e:\n",
    "        while arr[s]<pivot:\n",
    "            s = s+1\n",
    "        while arr[e]>pivot:\n",
    "            e = e-1\n",
    "        if s<e:\n",
    "            arr[s],arr[e] = arr[e],arr[s]\n",
    "            s = s+1\n",
    "            e = e-1\n",
    "    return s"
   ]
  },
  {
   "cell_type": "code",
   "execution_count": 23,
   "id": "0559c052",
   "metadata": {},
   "outputs": [
    {
     "name": "stdout",
     "output_type": "stream",
     "text": [
      "[2, 3, 3, 5, 6, 51]\n"
     ]
    }
   ],
   "source": [
    "l = [5,3,2,3,51,6] \n",
    "quicksort(l,0,len(l)-1)\n",
    "print(l)"
   ]
  },
  {
   "cell_type": "markdown",
   "id": "29859b15",
   "metadata": {},
   "source": [
    "Random Quick Sort"
   ]
  },
  {
   "cell_type": "markdown",
   "id": "bbd2e625",
   "metadata": {},
   "source": [
    "PIVOT IS SELECTED RANDOMLY TO IMPROVE RUNTIME"
   ]
  },
  {
   "cell_type": "code",
   "execution_count": 27,
   "id": "efc74420",
   "metadata": {},
   "outputs": [],
   "source": [
    "def rand_quicksort(arr,start,end):\n",
    "    if start >= end:\n",
    "        return arr\n",
    "    pivot_pos = rand_partition(arr,start,end)\n",
    "    rand_quicksort(arr,start,pivot_pos-1)\n",
    "    rand_quicksort(arr,pivot_pos+1, end)"
   ]
  },
  {
   "cell_type": "code",
   "execution_count": 28,
   "id": "b5826986",
   "metadata": {},
   "outputs": [],
   "source": [
    "from random import randint\n",
    "def rand_partition(arr,s,e):\n",
    "    pivot = arr[randint(s,e)]\n",
    "    while s<e:\n",
    "        while arr[s]<pivot:\n",
    "            s = s+1\n",
    "        while arr[e]>pivot:\n",
    "            e = e-1\n",
    "        if s<e:\n",
    "            arr[s],arr[e] = arr[e],arr[s]\n",
    "            s = s+1\n",
    "            e = e-1\n",
    "    return s"
   ]
  },
  {
   "cell_type": "code",
   "execution_count": 29,
   "id": "b006a5b3",
   "metadata": {},
   "outputs": [
    {
     "name": "stdout",
     "output_type": "stream",
     "text": [
      "[2, 3, 3, 5, 6, 51]\n"
     ]
    }
   ],
   "source": [
    "l = [5,3,2,3,51,6] \n",
    "rand_quicksort(l,0,len(l)-1)\n",
    "print(l)"
   ]
  },
  {
   "cell_type": "markdown",
   "id": "0bdb9dc9",
   "metadata": {},
   "source": [
    "Merge Sort"
   ]
  },
  {
   "cell_type": "markdown",
   "id": "d980629f",
   "metadata": {},
   "source": [
    "Mergesort starts with an array which is divided into roughly two parts and the two parts are roughly divided until leaf nodes is reached. Once the leaf is reached we start merging the nodes together such that sorting is done."
   ]
  },
  {
   "cell_type": "code",
   "execution_count": 30,
   "id": "7542f397",
   "metadata": {},
   "outputs": [],
   "source": [
    "def mergesort(arr):\n",
    "    listlen = len(arr)\n",
    "    \n",
    "    if listlen == 1:\n",
    "        return arr\n",
    "    \n",
    "    mid = listlen//2\n",
    "    leftpart = mergesort(arr[:mid])\n",
    "    rightpart = mergesort(arr[mid:])\n",
    "    \n",
    "    return merge(leftpart, rightpart)"
   ]
  },
  {
   "cell_type": "code",
   "execution_count": 31,
   "id": "62d3655c",
   "metadata": {},
   "outputs": [],
   "source": [
    "def merge(l,r):\n",
    "    i = j = 0\n",
    "\n",
    "    op = []\n",
    "    while i<len(l) and j<len(r):\n",
    "        if l[i]<r[j]:\n",
    "            op.append(l[i])\n",
    "            i = i+1\n",
    "        else:\n",
    "            op.append(r[j])\n",
    "            j = j+1\n",
    "    op.extend(l[i:])\n",
    "    op.extend(r[j:])\n",
    "    \n",
    "    return op\n",
    "        "
   ]
  },
  {
   "cell_type": "code",
   "execution_count": 32,
   "id": "8a4e875a",
   "metadata": {},
   "outputs": [
    {
     "data": {
      "text/plain": [
       "[2, 3, 4, 5, 6, 7]"
      ]
     },
     "execution_count": 32,
     "metadata": {},
     "output_type": "execute_result"
    }
   ],
   "source": [
    "l = [7,6,5,4,3,2]\n",
    "mergesort(l)"
   ]
  }
 ],
 "metadata": {
  "kernelspec": {
   "display_name": "Python 3.9 (tensorflow)",
   "language": "python",
   "name": "tensorflow"
  },
  "language_info": {
   "codemirror_mode": {
    "name": "ipython",
    "version": 3
   },
   "file_extension": ".py",
   "mimetype": "text/x-python",
   "name": "python",
   "nbconvert_exporter": "python",
   "pygments_lexer": "ipython3",
   "version": "3.9.12"
  }
 },
 "nbformat": 4,
 "nbformat_minor": 5
}

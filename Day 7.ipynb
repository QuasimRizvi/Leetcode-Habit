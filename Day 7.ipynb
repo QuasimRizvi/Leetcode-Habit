{
 "cells": [
  {
   "cell_type": "markdown",
   "id": "e6bdbd00",
   "metadata": {},
   "source": [
    "# String Algo"
   ]
  },
  {
   "cell_type": "markdown",
   "id": "e7d52a7f",
   "metadata": {},
   "source": [
    "3. Longest Substring Without Repeating Characters"
   ]
  },
  {
   "cell_type": "code",
   "execution_count": 7,
   "id": "e7f0c247",
   "metadata": {},
   "outputs": [],
   "source": [
    "def lengthOfLongestSubstring(s):\n",
    "        #SLIDING WINDOW TECHNIQUE\n",
    "        \n",
    "        l = 0\n",
    "        hm = {}\n",
    "        ans = 0\n",
    "        ansSet = set()\n",
    "        for r in range(len(s)):\n",
    "            if s[r] in hm:\n",
    "                l = max(l,hm[s[r]]+1)\n",
    "            ans = max(ans, r-l+1)\n",
    "#             Extra code to store substrings\n",
    "#             temp = s[l:r+1]\n",
    "#             if temp not in ansSet:\n",
    "#                 ansSet.add(temp)\n",
    "            hm[s[r]] = r\n",
    "#         print(ansSet)\n",
    "        return ans"
   ]
  },
  {
   "cell_type": "code",
   "execution_count": 8,
   "id": "8213e52b",
   "metadata": {},
   "outputs": [
    {
     "data": {
      "text/plain": [
       "3"
      ]
     },
     "execution_count": 8,
     "metadata": {},
     "output_type": "execute_result"
    }
   ],
   "source": [
    "lengthOfLongestSubstring(\"abcabcbb\")"
   ]
  },
  {
   "cell_type": "markdown",
   "id": "d224fca6",
   "metadata": {},
   "source": [
    "5. Longest Palindromic Substring"
   ]
  },
  {
   "cell_type": "code",
   "execution_count": 9,
   "id": "d84b65d7",
   "metadata": {},
   "outputs": [],
   "source": [
    " def longestPalindrome(s):\n",
    "        #two pointer approach\n",
    "        \n",
    "        resLen = 0\n",
    "        res = \"\"\n",
    "        for i in range(len(s)):\n",
    "            l,r = i,i\n",
    "            while l>=0 and r<len(s) and s[l] == s[r]:\n",
    "                if r-l+1 >resLen:\n",
    "                    res = s[l:r+1]\n",
    "                    resLen = r-l+1\n",
    "                r +=1\n",
    "                l -=1\n",
    "            \n",
    "            l,r = i,i+1\n",
    "            while l>=0 and r<len(s) and s[l] == s[r]:\n",
    "                if r-l+1 >resLen:\n",
    "                    res = s[l:r+1]\n",
    "                    resLen = r-l+1\n",
    "                r +=1\n",
    "                l -=1\n",
    "        \n",
    "        print(res,resLen)\n",
    "        return res"
   ]
  },
  {
   "cell_type": "code",
   "execution_count": 10,
   "id": "a3a5ccda",
   "metadata": {},
   "outputs": [
    {
     "name": "stdout",
     "output_type": "stream",
     "text": [
      "bab 3\n"
     ]
    },
    {
     "data": {
      "text/plain": [
       "'bab'"
      ]
     },
     "execution_count": 10,
     "metadata": {},
     "output_type": "execute_result"
    }
   ],
   "source": [
    "longestPalindrome(\"babad\")"
   ]
  },
  {
   "cell_type": "markdown",
   "id": "00fa842f",
   "metadata": {},
   "source": [
    "Meeting Rooms"
   ]
  },
  {
   "cell_type": "markdown",
   "id": "81b73bf0",
   "metadata": {},
   "source": [
    "Check the Heap solution"
   ]
  },
  {
   "cell_type": "code",
   "execution_count": null,
   "id": "56298672",
   "metadata": {},
   "outputs": [],
   "source": [
    "def minMeetingRooms(self, intervals: List[List[int]]) -> int:\n",
    "        \n",
    "        # If there is no meeting to schedule then no room needs to be allocated.\n",
    "        if not intervals:\n",
    "            return 0\n",
    "\n",
    "        # The heap initialization\n",
    "        free_rooms = []\n",
    "\n",
    "        # Sort the meetings in increasing order of their start time.\n",
    "        intervals.sort(key= lambda x: x[0])\n",
    "\n",
    "        # Add the first meeting. We have to give a new room to the first meeting.\n",
    "        heapq.heappush(free_rooms, intervals[0][1])\n",
    "\n",
    "        # For all the remaining meeting rooms\n",
    "        for i in intervals[1:]:\n",
    "\n",
    "            # If the room due to free up the earliest is free, assign that room to this meeting.\n",
    "            if free_rooms[0] <= i[0]:\n",
    "                heapq.heappop(free_rooms)\n",
    "\n",
    "            # If a new room is to be assigned, then also we add to the heap,\n",
    "            # If an old room is allocated, then also we have to add to the heap with updated end time.\n",
    "            heapq.heappush(free_rooms, i[1])\n",
    "\n",
    "        # The size of the heap tells us the minimum rooms required for all the meetings.\n",
    "        return len(free_rooms)"
   ]
  },
  {
   "cell_type": "code",
   "execution_count": 12,
   "id": "2ecb2aa5",
   "metadata": {},
   "outputs": [],
   "source": [
    "def minMeetingRooms(intervals):\n",
    "        start = sorted([x[0] for x in intervals])\n",
    "        end = sorted([x[1] for x in intervals])\n",
    "        count = 0\n",
    "        p1,p2 = 0,0\n",
    "        print(start,end,p1,p2)\n",
    "        res = 0\n",
    "        while p1<len(start) :\n",
    "            if start[p1]<end[p2]:\n",
    "                count +=1\n",
    "                p1 +=1\n",
    "            else:\n",
    "                count -=1\n",
    "                p2 +=1\n",
    "            res = max(res,count)\n",
    "        print(res)\n",
    "        return res\n",
    "            \n",
    "        "
   ]
  },
  {
   "cell_type": "code",
   "execution_count": null,
   "id": "431a3713",
   "metadata": {},
   "outputs": [],
   "source": []
  }
 ],
 "metadata": {
  "kernelspec": {
   "display_name": "Python 3.9 (tensorflow)",
   "language": "python",
   "name": "tensorflow"
  },
  "language_info": {
   "codemirror_mode": {
    "name": "ipython",
    "version": 3
   },
   "file_extension": ".py",
   "mimetype": "text/x-python",
   "name": "python",
   "nbconvert_exporter": "python",
   "pygments_lexer": "ipython3",
   "version": "3.9.12"
  }
 },
 "nbformat": 4,
 "nbformat_minor": 5
}

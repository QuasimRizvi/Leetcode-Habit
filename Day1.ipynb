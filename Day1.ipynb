{
 "cells": [
  {
   "cell_type": "markdown",
   "id": "b43ed458",
   "metadata": {},
   "source": [
    "1 Two Sum"
   ]
  },
  {
   "cell_type": "code",
   "execution_count": 5,
   "id": "b91cc236",
   "metadata": {},
   "outputs": [],
   "source": [
    "def twoSum(nums, target):\n",
    "        hashmap = {}\n",
    "        for index,value in enumerate(nums):\n",
    "            check = target-value\n",
    "            if check in hashmap:\n",
    "                return [index,hashmap[check]]\n",
    "            else:\n",
    "                hashmap[value] = index"
   ]
  },
  {
   "cell_type": "code",
   "execution_count": 6,
   "id": "e103577a",
   "metadata": {},
   "outputs": [
    {
     "data": {
      "text/plain": [
       "[2, 1]"
      ]
     },
     "execution_count": 6,
     "metadata": {},
     "output_type": "execute_result"
    }
   ],
   "source": [
    "twoSum([1,2,3,4],5)"
   ]
  },
  {
   "cell_type": "markdown",
   "id": "7a9b98c2",
   "metadata": {},
   "source": [
    "13 romanToInt"
   ]
  },
  {
   "cell_type": "code",
   "execution_count": 9,
   "id": "5ed38991",
   "metadata": {},
   "outputs": [],
   "source": [
    "def romanToInt(s):\n",
    "        rules = {'M':1000,'C':100, 'D':500, 'L':50,'X':10,'V':5,'I':1}\n",
    "        value = 0\n",
    "        index = 0\n",
    "        while index < len(s)-1:\n",
    "            char = s[index]\n",
    "            nextchar = s[index+1]\n",
    "            if rules[char] >= rules[nextchar]:\n",
    "                value += rules[char]\n",
    "            else:\n",
    "                value -= rules[char]\n",
    "            index +=1\n",
    "        value+= rules[s[index]]\n",
    "        return value"
   ]
  },
  {
   "cell_type": "code",
   "execution_count": 11,
   "id": "01441ce6",
   "metadata": {},
   "outputs": [
    {
     "data": {
      "text/plain": [
       "1100"
      ]
     },
     "execution_count": 11,
     "metadata": {},
     "output_type": "execute_result"
    }
   ],
   "source": [
    "romanToInt(\"MC\")"
   ]
  },
  {
   "cell_type": "markdown",
   "id": "8edbcc35",
   "metadata": {},
   "source": [
    "14 longestCommon Prefix"
   ]
  },
  {
   "cell_type": "code",
   "execution_count": 15,
   "id": "d36ed835",
   "metadata": {},
   "outputs": [],
   "source": [
    "def longestCommonPrefix(strs):\n",
    "        ans = \"\"\n",
    "        for i in range(len(strs[0])):\n",
    "            for s in strs:\n",
    "                if i == len(s) or s[i] != strs[0][i]:\n",
    "                    return ans\n",
    "            ans += strs[0][i]\n",
    "        print(ans)\n",
    "        return ans"
   ]
  },
  {
   "cell_type": "code",
   "execution_count": 16,
   "id": "9ce69e5c",
   "metadata": {},
   "outputs": [
    {
     "data": {
      "text/plain": [
       "'fl'"
      ]
     },
     "execution_count": 16,
     "metadata": {},
     "output_type": "execute_result"
    }
   ],
   "source": [
    "longestCommonPrefix([\"flower\",\"flow\",\"flight\"])"
   ]
  }
 ],
 "metadata": {
  "kernelspec": {
   "display_name": "Python 3.9 (tensorflow)",
   "language": "python",
   "name": "tensorflow"
  },
  "language_info": {
   "codemirror_mode": {
    "name": "ipython",
    "version": 3
   },
   "file_extension": ".py",
   "mimetype": "text/x-python",
   "name": "python",
   "nbconvert_exporter": "python",
   "pygments_lexer": "ipython3",
   "version": "3.9.12"
  }
 },
 "nbformat": 4,
 "nbformat_minor": 5
}

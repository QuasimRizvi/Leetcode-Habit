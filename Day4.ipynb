{
 "cells": [
  {
   "cell_type": "markdown",
   "id": "a57b16e6",
   "metadata": {},
   "source": [
    "69. Sqrt(x)"
   ]
  },
  {
   "cell_type": "code",
   "execution_count": 1,
   "id": "1fb049da",
   "metadata": {},
   "outputs": [],
   "source": [
    "def mySqrt(x):\n",
    "        if x<2:\n",
    "            return x\n",
    "        lptr = 2\n",
    "        rptr = x//2\n",
    "        while lptr <= rptr:\n",
    "            mid = lptr + (rptr-lptr)//2#To avoid mem overflow\n",
    "            val = mid*mid\n",
    "            if val > x:\n",
    "                rptr = mid - 1\n",
    "            elif val < x:\n",
    "                lptr = mid+1\n",
    "            else:\n",
    "                return mid\n",
    "        return rptr"
   ]
  },
  {
   "cell_type": "code",
   "execution_count": 2,
   "id": "b7cb4dcf",
   "metadata": {},
   "outputs": [
    {
     "data": {
      "text/plain": [
       "3"
      ]
     },
     "execution_count": 2,
     "metadata": {},
     "output_type": "execute_result"
    }
   ],
   "source": [
    "mySqrt(15)"
   ]
  },
  {
   "cell_type": "markdown",
   "id": "ed46d343",
   "metadata": {},
   "source": [
    "70. Climbing Stairs"
   ]
  },
  {
   "cell_type": "code",
   "execution_count": 4,
   "id": "f0643887",
   "metadata": {},
   "outputs": [],
   "source": [
    " def climbStairs(n):\n",
    "        # to reach n either I am at n-1 or n-2\n",
    "        # to reach n-1 I must have gotten there from n-2 or n-3\n",
    "        # to reach 3 I must\n",
    "        ways = list()\n",
    "        ways.append(1)\n",
    "        ways.append(2)\n",
    "        if n==1:\n",
    "            return ways[0]\n",
    "        elif n==2:\n",
    "            return ways[1]\n",
    "        else:\n",
    "            for i in range(2,n):\n",
    "                ways.append(ways[i-1]+ways[i-2])\n",
    "            return ways[-1]"
   ]
  },
  {
   "cell_type": "code",
   "execution_count": 7,
   "id": "75e02988",
   "metadata": {},
   "outputs": [
    {
     "data": {
      "text/plain": [
       "5"
      ]
     },
     "execution_count": 7,
     "metadata": {},
     "output_type": "execute_result"
    }
   ],
   "source": [
    "climbStairs(4)"
   ]
  },
  {
   "cell_type": "markdown",
   "id": "0247c031",
   "metadata": {},
   "source": [
    "88. Merge Sorted Array"
   ]
  },
  {
   "cell_type": "code",
   "execution_count": 8,
   "id": "84269331",
   "metadata": {},
   "outputs": [],
   "source": [
    "def merge(nums1,m,nums2,n):\n",
    "        \"\"\"\n",
    "        Do not return anything, modify nums1 in-place instead.\n",
    "        \"\"\"\n",
    "        i = m+n-1\n",
    "        k = m-1\n",
    "        j = n-1\n",
    "        while j>=0 and k>=0:\n",
    "            print(nums1,nums2)\n",
    "            if nums1[k]>nums2[j]:\n",
    "                nums1[i] = nums1[k]\n",
    "                k = k-1\n",
    "            else:\n",
    "                nums1[i] = nums2[j]\n",
    "                j = j-1\n",
    "            i = i-1\n",
    "        if j>=0:\n",
    "            while i>=0:\n",
    "                nums1[i] = nums2[j]\n",
    "                j = j-1\n",
    "                i = i-1\n",
    "        print(nums1,nums2)\n"
   ]
  },
  {
   "cell_type": "code",
   "execution_count": 9,
   "id": "36581df4",
   "metadata": {},
   "outputs": [
    {
     "name": "stdout",
     "output_type": "stream",
     "text": [
      "[4, 5, 6, 0, 0, 0] [1, 2, 3]\n",
      "[4, 5, 6, 0, 0, 6] [1, 2, 3]\n",
      "[4, 5, 6, 0, 5, 6] [1, 2, 3]\n",
      "[1, 2, 3, 4, 5, 6] [1, 2, 3]\n"
     ]
    }
   ],
   "source": [
    "merge([4,5,6,0,0,0]\n",
    ",3,\n",
    "[1,2,3],\n",
    "3)"
   ]
  }
 ],
 "metadata": {
  "kernelspec": {
   "display_name": "Python 3.9 (tensorflow)",
   "language": "python",
   "name": "tensorflow"
  },
  "language_info": {
   "codemirror_mode": {
    "name": "ipython",
    "version": 3
   },
   "file_extension": ".py",
   "mimetype": "text/x-python",
   "name": "python",
   "nbconvert_exporter": "python",
   "pygments_lexer": "ipython3",
   "version": "3.9.12"
  }
 },
 "nbformat": 4,
 "nbformat_minor": 5
}
